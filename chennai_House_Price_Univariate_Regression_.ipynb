{
  "nbformat": 4,
  "nbformat_minor": 0,
  "metadata": {
    "colab": {
      "name": "chennai House Price Univariate Regression .ipynb",
      "provenance": [],
      "collapsed_sections": [],
      "authorship_tag": "ABX9TyPkzj5CX/SMS4DNfCMLsZ4J"
    },
    "kernelspec": {
      "name": "python3",
      "display_name": "Python 3"
    }
  },
  "cells": [
    {
      "cell_type": "code",
      "metadata": {
        "id": "iRjxIzeUubAs",
        "colab": {
          "base_uri": "https://localhost:8080/",
          "height": 33
        },
        "outputId": "3ea563dc-8ed6-411a-f17b-b9fc66f49b35"
      },
      "source": [
        "from google.colab import drive\n",
        "drive.mount('/gdrive')"
      ],
      "execution_count": null,
      "outputs": [
        {
          "output_type": "stream",
          "text": [
            "Drive already mounted at /gdrive; to attempt to forcibly remount, call drive.mount(\"/gdrive\", force_remount=True).\n"
          ],
          "name": "stdout"
        }
      ]
    },
    {
      "cell_type": "code",
      "metadata": {
        "id": "hCvmM2s8yqsp"
      },
      "source": [
        "import numpy as np\n",
        "import pandas as pd\n",
        "import matplotlib.pyplot as plt\n",
        "%matplotlib inline\n"
      ],
      "execution_count": null,
      "outputs": []
    },
    {
      "cell_type": "code",
      "metadata": {
        "id": "Gzid3NOr1NDJ"
      },
      "source": [
        "path = '/gdrive/My Drive/Online_MLW : Sept 2020/Data/'\n"
      ],
      "execution_count": null,
      "outputs": []
    },
    {
      "cell_type": "code",
      "metadata": {
        "id": "zowBLot91Oxs"
      },
      "source": [
        "raw_data=pd.read_csv(path+'Chennai_house_univariate.csv')\n"
      ],
      "execution_count": null,
      "outputs": []
    },
    {
      "cell_type": "code",
      "metadata": {
        "id": "oA41Wuc-1QHq",
        "colab": {
          "base_uri": "https://localhost:8080/",
          "height": 191
        },
        "outputId": "9940af98-34e2-4ce4-ff7c-1b001ad6e5a0"
      },
      "source": [
        "raw_data.head()"
      ],
      "execution_count": null,
      "outputs": [
        {
          "output_type": "execute_result",
          "data": {
            "text/html": [
              "<div>\n",
              "<style scoped>\n",
              "    .dataframe tbody tr th:only-of-type {\n",
              "        vertical-align: middle;\n",
              "    }\n",
              "\n",
              "    .dataframe tbody tr th {\n",
              "        vertical-align: top;\n",
              "    }\n",
              "\n",
              "    .dataframe thead th {\n",
              "        text-align: right;\n",
              "    }\n",
              "</style>\n",
              "<table border=\"1\" class=\"dataframe\">\n",
              "  <thead>\n",
              "    <tr style=\"text-align: right;\">\n",
              "      <th></th>\n",
              "      <th>Size</th>\n",
              "      <th>Price</th>\n",
              "    </tr>\n",
              "  </thead>\n",
              "  <tbody>\n",
              "    <tr>\n",
              "      <th>0</th>\n",
              "      <td>721.82</td>\n",
              "      <td>1480000</td>\n",
              "    </tr>\n",
              "    <tr>\n",
              "      <th>1</th>\n",
              "      <td>543.69</td>\n",
              "      <td>830000</td>\n",
              "    </tr>\n",
              "    <tr>\n",
              "      <th>2</th>\n",
              "      <td>851.72</td>\n",
              "      <td>2060000</td>\n",
              "    </tr>\n",
              "    <tr>\n",
              "      <th>3</th>\n",
              "      <td>931.02</td>\n",
              "      <td>2410000</td>\n",
              "    </tr>\n",
              "    <tr>\n",
              "      <th>4</th>\n",
              "      <td>552.77</td>\n",
              "      <td>860000</td>\n",
              "    </tr>\n",
              "  </tbody>\n",
              "</table>\n",
              "</div>"
            ],
            "text/plain": [
              "     Size    Price\n",
              "0  721.82  1480000\n",
              "1  543.69   830000\n",
              "2  851.72  2060000\n",
              "3  931.02  2410000\n",
              "4  552.77   860000"
            ]
          },
          "metadata": {
            "tags": []
          },
          "execution_count": 37
        }
      ]
    },
    {
      "cell_type": "code",
      "metadata": {
        "id": "WEvdvp5I1fPJ",
        "colab": {
          "base_uri": "https://localhost:8080/",
          "height": 191
        },
        "outputId": "b97cbaae-b017-4eb6-a617-3129965527ed"
      },
      "source": [
        "raw_data.tail()"
      ],
      "execution_count": null,
      "outputs": [
        {
          "output_type": "execute_result",
          "data": {
            "text/html": [
              "<div>\n",
              "<style scoped>\n",
              "    .dataframe tbody tr th:only-of-type {\n",
              "        vertical-align: middle;\n",
              "    }\n",
              "\n",
              "    .dataframe tbody tr th {\n",
              "        vertical-align: top;\n",
              "    }\n",
              "\n",
              "    .dataframe thead th {\n",
              "        text-align: right;\n",
              "    }\n",
              "</style>\n",
              "<table border=\"1\" class=\"dataframe\">\n",
              "  <thead>\n",
              "    <tr style=\"text-align: right;\">\n",
              "      <th></th>\n",
              "      <th>Size</th>\n",
              "      <th>Price</th>\n",
              "    </tr>\n",
              "  </thead>\n",
              "  <tbody>\n",
              "    <tr>\n",
              "      <th>92</th>\n",
              "      <td>570.77</td>\n",
              "      <td>930000</td>\n",
              "    </tr>\n",
              "    <tr>\n",
              "      <th>93</th>\n",
              "      <td>552.04</td>\n",
              "      <td>860000</td>\n",
              "    </tr>\n",
              "    <tr>\n",
              "      <th>94</th>\n",
              "      <td>513.01</td>\n",
              "      <td>700000</td>\n",
              "    </tr>\n",
              "    <tr>\n",
              "      <th>95</th>\n",
              "      <td>747.64</td>\n",
              "      <td>1580000</td>\n",
              "    </tr>\n",
              "    <tr>\n",
              "      <th>96</th>\n",
              "      <td>2034.10</td>\n",
              "      <td>7710000</td>\n",
              "    </tr>\n",
              "  </tbody>\n",
              "</table>\n",
              "</div>"
            ],
            "text/plain": [
              "       Size    Price\n",
              "92   570.77   930000\n",
              "93   552.04   860000\n",
              "94   513.01   700000\n",
              "95   747.64  1580000\n",
              "96  2034.10  7710000"
            ]
          },
          "metadata": {
            "tags": []
          },
          "execution_count": 38
        }
      ]
    },
    {
      "cell_type": "code",
      "metadata": {
        "id": "ntSxtJXcxwqQ",
        "colab": {
          "base_uri": "https://localhost:8080/",
          "height": 632
        },
        "outputId": "f92eb51c-1aa2-4101-ec04-eddfdd1aa468"
      },
      "source": [
        "raw_data.plot(kind=\"scatter\",x=\"Size\",y=\"Price\",figsize=(10,10))"
      ],
      "execution_count": null,
      "outputs": [
        {
          "output_type": "execute_result",
          "data": {
            "text/plain": [
              "<matplotlib.axes._subplots.AxesSubplot at 0x7f7a7b60a908>"
            ]
          },
          "metadata": {
            "tags": []
          },
          "execution_count": 39
        },
        {
          "output_type": "display_data",
          "data": {
            "image/png": "[encoded data removed]",
            "text/plain": [
              "<Figure size 720x720 with 1 Axes>"
            ]
          },
          "metadata": {
            "tags": [],
            "needs_background": "light"
          }
        }
      ]
    },
    {
      "cell_type": "markdown",
      "metadata": {
        "id": "kyRybWM8134b"
      },
      "source": [
        "Data Normalisation\n"
      ]
    },
    {
      "cell_type": "code",
      "metadata": {
        "id": "y02q1dHu16Xd",
        "colab": {
          "base_uri": "https://localhost:8080/",
          "height": 191
        },
        "outputId": "f8aa3700-f9fb-41ca-cf75-0d59056103f7"
      },
      "source": [
        "data = (raw_data-raw_data.mean())/(raw_data.max()-raw_data.min())\n",
        "data.head()"
      ],
      "execution_count": null,
      "outputs": [
        {
          "output_type": "execute_result",
          "data": {
            "text/html": [
              "<div>\n",
              "<style scoped>\n",
              "    .dataframe tbody tr th:only-of-type {\n",
              "        vertical-align: middle;\n",
              "    }\n",
              "\n",
              "    .dataframe tbody tr th {\n",
              "        vertical-align: top;\n",
              "    }\n",
              "\n",
              "    .dataframe thead th {\n",
              "        text-align: right;\n",
              "    }\n",
              "</style>\n",
              "<table border=\"1\" class=\"dataframe\">\n",
              "  <thead>\n",
              "    <tr style=\"text-align: right;\">\n",
              "      <th></th>\n",
              "      <th>Size</th>\n",
              "      <th>Price</th>\n",
              "    </tr>\n",
              "  </thead>\n",
              "  <tbody>\n",
              "    <tr>\n",
              "      <th>0</th>\n",
              "      <td>-0.054820</td>\n",
              "      <td>-0.063773</td>\n",
              "    </tr>\n",
              "    <tr>\n",
              "      <th>1</th>\n",
              "      <td>-0.158528</td>\n",
              "      <td>-0.144922</td>\n",
              "    </tr>\n",
              "    <tr>\n",
              "      <th>2</th>\n",
              "      <td>0.020808</td>\n",
              "      <td>0.008636</td>\n",
              "    </tr>\n",
              "    <tr>\n",
              "      <th>3</th>\n",
              "      <td>0.066977</td>\n",
              "      <td>0.052331</td>\n",
              "    </tr>\n",
              "    <tr>\n",
              "      <th>4</th>\n",
              "      <td>-0.153242</td>\n",
              "      <td>-0.141177</td>\n",
              "    </tr>\n",
              "  </tbody>\n",
              "</table>\n",
              "</div>"
            ],
            "text/plain": [
              "       Size     Price\n",
              "0 -0.054820 -0.063773\n",
              "1 -0.158528 -0.144922\n",
              "2  0.020808  0.008636\n",
              "3  0.066977  0.052331\n",
              "4 -0.153242 -0.141177"
            ]
          },
          "metadata": {
            "tags": []
          },
          "execution_count": 40
        }
      ]
    },
    {
      "cell_type": "code",
      "metadata": {
        "id": "aDB2K3dv2otA",
        "colab": {
          "base_uri": "https://localhost:8080/",
          "height": 622
        },
        "outputId": "f5afc34c-ee39-4d7e-8968-a9bafe4ed31f"
      },
      "source": [
        "data.plot(kind=\"scatter\",x=\"Size\",y=\"Price\",figsize=(10,10))"
      ],
      "execution_count": null,
      "outputs": [
        {
          "output_type": "execute_result",
          "data": {
            "text/plain": [
              "<matplotlib.axes._subplots.AxesSubplot at 0x7f7a7b61aef0>"
            ]
          },
          "metadata": {
            "tags": []
          },
          "execution_count": 41
        },
        {
          "output_type": "display_data",
          "data": {
            "image/png": "[encoded data removed]",
            "text/plain": [
              "<Figure size 720x720 with 1 Axes>"
            ]
          },
          "metadata": {
            "tags": [],
            "needs_background": "light"
          }
        }
      ]
    },
    {
      "cell_type": "code",
      "metadata": {
        "id": "5Fs0JafD36cO",
        "colab": {
          "base_uri": "https://localhost:8080/",
          "height": 33
        },
        "outputId": "78225615-3374-4f5b-a560-4689bc1748df"
      },
      "source": [
        "data.shape"
      ],
      "execution_count": null,
      "outputs": [
        {
          "output_type": "execute_result",
          "data": {
            "text/plain": [
              "(97, 2)"
            ]
          },
          "metadata": {
            "tags": []
          },
          "execution_count": 42
        }
      ]
    },
    {
      "cell_type": "code",
      "metadata": {
        "id": "v1hf4ab04N_h",
        "colab": {
          "base_uri": "https://localhost:8080/",
          "height": 33
        },
        "outputId": "c82848b3-7673-4c95-b080-64268cfb719a"
      },
      "source": [
        "data.shape[0]"
      ],
      "execution_count": null,
      "outputs": [
        {
          "output_type": "execute_result",
          "data": {
            "text/plain": [
              "97"
            ]
          },
          "metadata": {
            "tags": []
          },
          "execution_count": 43
        }
      ]
    },
    {
      "cell_type": "code",
      "metadata": {
        "id": "QIbUSuTY4QWw",
        "colab": {
          "base_uri": "https://localhost:8080/",
          "height": 33
        },
        "outputId": "337e5160-b7bd-44c1-e1c3-8f6fa41f3693"
      },
      "source": [
        "data.shape[1]"
      ],
      "execution_count": null,
      "outputs": [
        {
          "output_type": "execute_result",
          "data": {
            "text/plain": [
              "2"
            ]
          },
          "metadata": {
            "tags": []
          },
          "execution_count": 44
        }
      ]
    },
    {
      "cell_type": "code",
      "metadata": {
        "id": "Sbj3vSvW_PTR"
      },
      "source": [
        "data.insert(0,'ones',1)"
      ],
      "execution_count": null,
      "outputs": []
    },
    {
      "cell_type": "code",
      "metadata": {
        "id": "3pDO-PkQ_hxH",
        "colab": {
          "base_uri": "https://localhost:8080/",
          "height": 622
        },
        "outputId": "23ad230c-3fad-4f46-aec6-f0005f7d5d1c"
      },
      "source": [
        "data.head(20)"
      ],
      "execution_count": null,
      "outputs": [
        {
          "output_type": "execute_result",
          "data": {
            "text/html": [
              "<div>\n",
              "<style scoped>\n",
              "    .dataframe tbody tr th:only-of-type {\n",
              "        vertical-align: middle;\n",
              "    }\n",
              "\n",
              "    .dataframe tbody tr th {\n",
              "        vertical-align: top;\n",
              "    }\n",
              "\n",
              "    .dataframe thead th {\n",
              "        text-align: right;\n",
              "    }\n",
              "</style>\n",
              "<table border=\"1\" class=\"dataframe\">\n",
              "  <thead>\n",
              "    <tr style=\"text-align: right;\">\n",
              "      <th></th>\n",
              "      <th>ones</th>\n",
              "      <th>Size</th>\n",
              "      <th>Price</th>\n",
              "    </tr>\n",
              "  </thead>\n",
              "  <tbody>\n",
              "    <tr>\n",
              "      <th>0</th>\n",
              "      <td>1</td>\n",
              "      <td>-0.054820</td>\n",
              "      <td>-0.063773</td>\n",
              "    </tr>\n",
              "    <tr>\n",
              "      <th>1</th>\n",
              "      <td>1</td>\n",
              "      <td>-0.158528</td>\n",
              "      <td>-0.144922</td>\n",
              "    </tr>\n",
              "    <tr>\n",
              "      <th>2</th>\n",
              "      <td>1</td>\n",
              "      <td>0.020808</td>\n",
              "      <td>0.008636</td>\n",
              "    </tr>\n",
              "    <tr>\n",
              "      <th>3</th>\n",
              "      <td>1</td>\n",
              "      <td>0.066977</td>\n",
              "      <td>0.052331</td>\n",
              "    </tr>\n",
              "    <tr>\n",
              "      <th>4</th>\n",
              "      <td>1</td>\n",
              "      <td>-0.153242</td>\n",
              "      <td>-0.141177</td>\n",
              "    </tr>\n",
              "    <tr>\n",
              "      <th>5</th>\n",
              "      <td>1</td>\n",
              "      <td>-0.093846</td>\n",
              "      <td>-0.091239</td>\n",
              "    </tr>\n",
              "    <tr>\n",
              "      <th>6</th>\n",
              "      <td>1</td>\n",
              "      <td>-0.177695</td>\n",
              "      <td>-0.163649</td>\n",
              "    </tr>\n",
              "    <tr>\n",
              "      <th>7</th>\n",
              "      <td>1</td>\n",
              "      <td>-0.133272</td>\n",
              "      <td>-0.123698</td>\n",
              "    </tr>\n",
              "    <tr>\n",
              "      <th>8</th>\n",
              "      <td>1</td>\n",
              "      <td>-0.138920</td>\n",
              "      <td>-0.129941</td>\n",
              "    </tr>\n",
              "    <tr>\n",
              "      <th>9</th>\n",
              "      <td>1</td>\n",
              "      <td>-0.013181</td>\n",
              "      <td>-0.031314</td>\n",
              "    </tr>\n",
              "    <tr>\n",
              "      <th>10</th>\n",
              "      <td>1</td>\n",
              "      <td>-0.019510</td>\n",
              "      <td>-0.037556</td>\n",
              "    </tr>\n",
              "    <tr>\n",
              "      <th>11</th>\n",
              "      <td>1</td>\n",
              "      <td>0.304737</td>\n",
              "      <td>0.298274</td>\n",
              "    </tr>\n",
              "    <tr>\n",
              "      <th>12</th>\n",
              "      <td>1</td>\n",
              "      <td>-0.179878</td>\n",
              "      <td>-0.166145</td>\n",
              "    </tr>\n",
              "    <tr>\n",
              "      <th>13</th>\n",
              "      <td>1</td>\n",
              "      <td>-0.137307</td>\n",
              "      <td>-0.128692</td>\n",
              "    </tr>\n",
              "    <tr>\n",
              "      <th>14</th>\n",
              "      <td>1</td>\n",
              "      <td>0.628734</td>\n",
              "      <td>0.627862</td>\n",
              "    </tr>\n",
              "    <tr>\n",
              "      <th>15</th>\n",
              "      <td>1</td>\n",
              "      <td>-0.182399</td>\n",
              "      <td>-0.169891</td>\n",
              "    </tr>\n",
              "    <tr>\n",
              "      <th>16</th>\n",
              "      <td>1</td>\n",
              "      <td>-0.036167</td>\n",
              "      <td>-0.048792</td>\n",
              "    </tr>\n",
              "    <tr>\n",
              "      <th>17</th>\n",
              "      <td>1</td>\n",
              "      <td>0.627919</td>\n",
              "      <td>0.627862</td>\n",
              "    </tr>\n",
              "    <tr>\n",
              "      <th>18</th>\n",
              "      <td>1</td>\n",
              "      <td>-0.106369</td>\n",
              "      <td>-0.102475</td>\n",
              "    </tr>\n",
              "    <tr>\n",
              "      <th>19</th>\n",
              "      <td>1</td>\n",
              "      <td>-0.169270</td>\n",
              "      <td>-0.154909</td>\n",
              "    </tr>\n",
              "  </tbody>\n",
              "</table>\n",
              "</div>"
            ],
            "text/plain": [
              "    ones      Size     Price\n",
              "0      1 -0.054820 -0.063773\n",
              "1      1 -0.158528 -0.144922\n",
              "2      1  0.020808  0.008636\n",
              "3      1  0.066977  0.052331\n",
              "4      1 -0.153242 -0.141177\n",
              "5      1 -0.093846 -0.091239\n",
              "6      1 -0.177695 -0.163649\n",
              "7      1 -0.133272 -0.123698\n",
              "8      1 -0.138920 -0.129941\n",
              "9      1 -0.013181 -0.031314\n",
              "10     1 -0.019510 -0.037556\n",
              "11     1  0.304737  0.298274\n",
              "12     1 -0.179878 -0.166145\n",
              "13     1 -0.137307 -0.128692\n",
              "14     1  0.628734  0.627862\n",
              "15     1 -0.182399 -0.169891\n",
              "16     1 -0.036167 -0.048792\n",
              "17     1  0.627919  0.627862\n",
              "18     1 -0.106369 -0.102475\n",
              "19     1 -0.169270 -0.154909"
            ]
          },
          "metadata": {
            "tags": []
          },
          "execution_count": 46
        }
      ]
    },
    {
      "cell_type": "code",
      "metadata": {
        "id": "fkHeSpiaBhjM",
        "colab": {
          "base_uri": "https://localhost:8080/",
          "height": 33
        },
        "outputId": "ef723f73-bda2-48ea-a658-ff8db54c1546"
      },
      "source": [
        "cols=data.shape[1]\n",
        "print(cols)"
      ],
      "execution_count": null,
      "outputs": [
        {
          "output_type": "stream",
          "text": [
            "3\n"
          ],
          "name": "stdout"
        }
      ]
    },
    {
      "cell_type": "code",
      "metadata": {
        "id": "bhS-V5EpBmbm",
        "colab": {
          "base_uri": "https://localhost:8080/",
          "height": 245
        },
        "outputId": "aebe03ea-eaa5-49f9-f313-a5016bab1987"
      },
      "source": [
        "x=data.iloc[:,0:cols-1]\n",
        "print(x)"
      ],
      "execution_count": null,
      "outputs": [
        {
          "output_type": "stream",
          "text": [
            "    ones      Size\n",
            "0      1 -0.054820\n",
            "1      1 -0.158528\n",
            "2      1  0.020808\n",
            "3      1  0.066977\n",
            "4      1 -0.153242\n",
            "..   ...       ...\n",
            "92     1 -0.142762\n",
            "93     1 -0.153667\n",
            "94     1 -0.176390\n",
            "95     1 -0.039788\n",
            "96     1  0.709195\n",
            "\n",
            "[97 rows x 2 columns]\n"
          ],
          "name": "stdout"
        }
      ]
    },
    {
      "cell_type": "code",
      "metadata": {
        "id": "F41M_qgsB1Qe",
        "colab": {
          "base_uri": "https://localhost:8080/",
          "height": 245
        },
        "outputId": "d610b358-dfbf-4d84-8439-c984cba8441d"
      },
      "source": [
        "y=data.iloc[:,cols-1:cols]\n",
        "print(y)"
      ],
      "execution_count": null,
      "outputs": [
        {
          "output_type": "stream",
          "text": [
            "       Price\n",
            "0  -0.063773\n",
            "1  -0.144922\n",
            "2   0.008636\n",
            "3   0.052331\n",
            "4  -0.141177\n",
            "..       ...\n",
            "92 -0.132438\n",
            "93 -0.141177\n",
            "94 -0.161152\n",
            "95 -0.051289\n",
            "96  0.714004\n",
            "\n",
            "[97 rows x 1 columns]\n"
          ],
          "name": "stdout"
        }
      ]
    },
    {
      "cell_type": "code",
      "metadata": {
        "id": "rYZxngugCA3h",
        "colab": {
          "base_uri": "https://localhost:8080/",
          "height": 33
        },
        "outputId": "15b0ebb2-18f9-4bbb-f66a-318df0deb1e2"
      },
      "source": [
        "theta=np.matrix([10,10])\n",
        "print(theta)"
      ],
      "execution_count": null,
      "outputs": [
        {
          "output_type": "stream",
          "text": [
            "[[10 10]]\n"
          ],
          "name": "stdout"
        }
      ]
    },
    {
      "cell_type": "code",
      "metadata": {
        "id": "Rj6HUetfCHwd",
        "colab": {
          "base_uri": "https://localhost:8080/",
          "height": 1000
        },
        "outputId": "908ca8a1-d8a2-4c79-f7c0-b3f3c4b59d5e"
      },
      "source": [
        "X=np.matrix(x)\n",
        "print(X)"
      ],
      "execution_count": null,
      "outputs": [
        {
          "output_type": "stream",
          "text": [
            "[[ 1.         -0.05482036]\n",
            " [ 1.         -0.15852842]\n",
            " [ 1.          0.02080798]\n",
            " [ 1.          0.06697679]\n",
            " [ 1.         -0.153242  ]\n",
            " [ 1.         -0.09384552]\n",
            " [ 1.         -0.17769459]\n",
            " [ 1.         -0.1332724 ]\n",
            " [ 1.         -0.13891978]\n",
            " [ 1.         -0.01318111]\n",
            " [ 1.         -0.01950967]\n",
            " [ 1.          0.3047374 ]\n",
            " [ 1.         -0.17987785]\n",
            " [ 1.         -0.13730707]\n",
            " [ 1.          0.62873411]\n",
            " [ 1.         -0.1823988 ]\n",
            " [ 1.         -0.03616653]\n",
            " [ 1.          0.62791903]\n",
            " [ 1.         -0.10636873]\n",
            " [ 1.         -0.16927009]\n",
            " [ 1.         -0.13204394]\n",
            " [ 1.         -0.18183988]\n",
            " [ 1.         -0.10516939]\n",
            " [ 1.         -0.14866588]\n",
            " [ 1.         -0.12538353]\n",
            " [ 1.         -0.11473501]\n",
            " [ 1.         -0.18050663]\n",
            " [ 1.          0.0753256 ]\n",
            " [ 1.         -0.16618441]\n",
            " [ 1.         -0.100733  ]\n",
            " [ 1.         -0.1510762 ]\n",
            " [ 1.         -0.03607338]\n",
            " [ 1.         -0.10484918]\n",
            " [ 1.         -0.07436496]\n",
            " [ 1.         -0.06210374]\n",
            " [ 1.         -0.04804932]\n",
            " [ 1.         -0.12562805]\n",
            " [ 1.         -0.00372029]\n",
            " [ 1.         -0.06733775]\n",
            " [ 1.         -0.18078609]\n",
            " [ 1.          0.27178463]\n",
            " [ 1.         -0.14672132]\n",
            " [ 1.          0.01298898]\n",
            " [ 1.          0.02435361]\n",
            " [ 1.          0.29204534]\n",
            " [ 1.          0.7050611 ]\n",
            " [ 1.          0.06336712]\n",
            " [ 1.         -0.15488964]\n",
            " [ 1.         -0.10447075]\n",
            " [ 1.         -0.16027503]\n",
            " [ 1.          0.12087727]\n",
            " [ 1.         -0.1618761 ]\n",
            " [ 1.          0.0144736 ]\n",
            " [ 1.          0.09367086]\n",
            " [ 1.          0.00298671]\n",
            " [ 1.         -0.11933442]\n",
            " [ 1.         -0.09743772]\n",
            " [ 1.          0.11505522]\n",
            " [ 1.          0.20611198]\n",
            " [ 1.          0.20657774]\n",
            " [ 1.         -0.03241132]\n",
            " [ 1.         -0.04284442]\n",
            " [ 1.          0.39288313]\n",
            " [ 1.          0.8176012 ]\n",
            " [ 1.          0.76380552]\n",
            " [ 1.         -0.15243274]\n",
            " [ 1.          0.27225039]\n",
            " [ 1.         -0.09570857]\n",
            " [ 1.         -0.133907  ]\n",
            " [ 1.          0.34956713]\n",
            " [ 1.          0.1628542 ]\n",
            " [ 1.         -0.173526  ]\n",
            " [ 1.          0.00777825]\n",
            " [ 1.         -0.1660505 ]\n",
            " [ 1.         -0.14123113]\n",
            " [ 1.         -0.15543109]\n",
            " [ 1.         -0.05437206]\n",
            " [ 1.          0.03875152]\n",
            " [ 1.         -0.14151059]\n",
            " [ 1.          0.12308964]\n",
            " [ 1.         -0.06340205]\n",
            " [ 1.         -0.10503549]\n",
            " [ 1.         -0.1466631 ]\n",
            " [ 1.          0.00787722]\n",
            " [ 1.          0.05940813]\n",
            " [ 1.         -0.09142937]\n",
            " [ 1.         -0.10675881]\n",
            " [ 1.          0.02088949]\n",
            " [ 1.         -0.14258767]\n",
            " [ 1.         -0.10978045]\n",
            " [ 1.         -0.03046093]\n",
            " [ 1.         -0.1729962 ]\n",
            " [ 1.         -0.14276233]\n",
            " [ 1.         -0.15366701]\n",
            " [ 1.         -0.17639045]\n",
            " [ 1.         -0.03978784]\n",
            " [ 1.          0.70919475]]\n"
          ],
          "name": "stdout"
        }
      ]
    },
    {
      "cell_type": "code",
      "metadata": {
        "id": "f2_GXM8gCTBN",
        "colab": {
          "base_uri": "https://localhost:8080/",
          "height": 1000
        },
        "outputId": "33f5ed6c-52d6-4967-e0f8-41c00526cfdf"
      },
      "source": [
        "Y=np.matrix(y)\n",
        "print(Y)"
      ],
      "execution_count": null,
      "outputs": [
        {
          "output_type": "stream",
          "text": [
            "[[-0.06377338]\n",
            " [-0.14492194]\n",
            " [ 0.00863611]\n",
            " [ 0.05233149]\n",
            " [-0.14117662]\n",
            " [-0.09123904]\n",
            " [-0.16364853]\n",
            " [-0.12369847]\n",
            " [-0.12994067]\n",
            " [-0.03131395]\n",
            " [-0.03755615]\n",
            " [ 0.29827406]\n",
            " [-0.16614541]\n",
            " [-0.12869223]\n",
            " [ 0.62786208]\n",
            " [-0.16989073]\n",
            " [-0.0487921 ]\n",
            " [ 0.62786208]\n",
            " [-0.102475  ]\n",
            " [-0.15490946]\n",
            " [-0.12245003]\n",
            " [-0.16989073]\n",
            " [-0.10122656]\n",
            " [-0.1374313 ]\n",
            " [-0.11745627]\n",
            " [-0.10746876]\n",
            " [-0.16739385]\n",
            " [ 0.06107057]\n",
            " [-0.15241258]\n",
            " [-0.0962328 ]\n",
            " [-0.13867974]\n",
            " [-0.0487921 ]\n",
            " [-0.10122656]\n",
            " [-0.08374841]\n",
            " [-0.07126401]\n",
            " [-0.05753118]\n",
            " [-0.11745627]\n",
            " [-0.020078  ]\n",
            " [-0.07625777]\n",
            " [-0.16739385]\n",
            " [ 0.26331776]\n",
            " [-0.13618286]\n",
            " [ 0.00114548]\n",
            " [ 0.01238143]\n",
            " [ 0.28454123]\n",
            " [ 0.70901064]\n",
            " [ 0.04858617]\n",
            " [-0.14242506]\n",
            " [-0.09997812]\n",
            " [-0.14617038]\n",
            " [ 0.10601439]\n",
            " [-0.14741882]\n",
            " [ 0.00239391]\n",
            " [ 0.0810456 ]\n",
            " [-0.0075936 ]\n",
            " [-0.11371095]\n",
            " [-0.09373592]\n",
            " [ 0.09977219]\n",
            " [ 0.19465359]\n",
            " [ 0.19465359]\n",
            " [-0.04629522]\n",
            " [-0.05253742]\n",
            " [ 0.37817419]\n",
            " [ 0.83010927]\n",
            " [ 0.77018418]\n",
            " [-0.13992818]\n",
            " [ 0.2645662 ]\n",
            " [-0.09248748]\n",
            " [-0.12494691]\n",
            " [ 0.33947257]\n",
            " [ 0.15095821]\n",
            " [-0.15865477]\n",
            " [-0.00509672]\n",
            " [-0.15241258]\n",
            " [-0.13118911]\n",
            " [-0.14242506]\n",
            " [-0.06377338]\n",
            " [ 0.03110802]\n",
            " [-0.13243755]\n",
            " [ 0.10726283]\n",
            " [-0.07251245]\n",
            " [-0.10122656]\n",
            " [-0.13493442]\n",
            " [-0.00509672]\n",
            " [ 0.0460893 ]\n",
            " [-0.0899906 ]\n",
            " [-0.102475  ]\n",
            " [ 0.00863611]\n",
            " [-0.13243755]\n",
            " [-0.10372344]\n",
            " [-0.04504678]\n",
            " [-0.15865477]\n",
            " [-0.13243755]\n",
            " [-0.14117662]\n",
            " [-0.16115165]\n",
            " [-0.05128898]\n",
            " [ 0.7140044 ]]\n"
          ],
          "name": "stdout"
        }
      ]
    },
    {
      "cell_type": "code",
      "metadata": {
        "id": "mRzZuZgXCYTv",
        "colab": {
          "base_uri": "https://localhost:8080/",
          "height": 33
        },
        "outputId": "e5f0a6bf-4a0a-4e56-82a9-08bffc8d7100"
      },
      "source": [
        "X.shape,Y.shape,theta.shape"
      ],
      "execution_count": null,
      "outputs": [
        {
          "output_type": "execute_result",
          "data": {
            "text/plain": [
              "((97, 2), (97, 1), (1, 2))"
            ]
          },
          "metadata": {
            "tags": []
          },
          "execution_count": 53
        }
      ]
    },
    {
      "cell_type": "code",
      "metadata": {
        "id": "IYyvv32XD7-2"
      },
      "source": [
        "def computeError(x,y,theta):\n",
        "  inner=np.power(((x*theta.T)-y),2)\n",
        "  return np.sum(inner)/(2*len(x))"
      ],
      "execution_count": null,
      "outputs": []
    },
    {
      "cell_type": "code",
      "metadata": {
        "id": "eu_6UPk3EdXZ",
        "colab": {
          "base_uri": "https://localhost:8080/",
          "height": 33
        },
        "outputId": "3416f687-6892-44c3-d0f5-dacfd93a2a6f"
      },
      "source": [
        "computeError(X,Y,theta)"
      ],
      "execution_count": null,
      "outputs": [
        {
          "output_type": "execute_result",
          "data": {
            "text/plain": [
              "52.04227733164413"
            ]
          },
          "metadata": {
            "tags": []
          },
          "execution_count": 55
        }
      ]
    },
    {
      "cell_type": "code",
      "metadata": {
        "id": "KOjMeaOOXNHm"
      },
      "source": [
        "learn_rate = 1\n",
        "iters = 250\n",
        "def gradientDescent(x,y,theta,learn_rate,iters):\n",
        "  temp = np.matrix(np.zeros(theta.shape))   # creating a temporary matrix to update the values of theta\n",
        "  parameters = theta.shape[1]         # finding the number of parameters\n",
        "  cost = []            # creating a list to track the cost at all iters\n",
        "\n",
        "  for i in range(iters):      #for each iteration\n",
        "    error = (x*theta.T)-y     #error\n",
        "    for j in range(parameters): #update the value of theta\n",
        "      gradient = np.multiply(error,x[:,j])\n",
        "      temp[0,j]= theta[0,j] - ((learn_rate/len(x))*np.sum(gradient))      #assign it to the temp matrix\n",
        "\n",
        "    theta= temp   #simultaneously update the values of all the theta values\n",
        "    \n",
        "    cost_iter = computeError(x,y,theta) #find the cost for the iteration\n",
        "\n",
        "    cost.append(cost_iter) \n",
        "    \n",
        "  return theta,cost"
      ],
      "execution_count": null,
      "outputs": []
    },
    {
      "cell_type": "code",
      "metadata": {
        "id": "18aJ5qKoXcN7"
      },
      "source": [
        "new_theta,cost=gradientDescent(X,Y,theta,learn_rate,iters)"
      ],
      "execution_count": null,
      "outputs": []
    },
    {
      "cell_type": "code",
      "metadata": {
        "id": "pgvrRku6Xr09",
        "colab": {
          "base_uri": "https://localhost:8080/",
          "height": 33
        },
        "outputId": "7ac196d0-5a88-4789-fc78-b5dc9162b543"
      },
      "source": [
        "print(new_theta)"
      ],
      "execution_count": null,
      "outputs": [
        {
          "output_type": "stream",
          "text": [
            "[[2.73835937e-16 9.83409437e-01]]\n"
          ],
          "name": "stdout"
        }
      ]
    },
    {
      "cell_type": "code",
      "metadata": {
        "id": "H6SZPO3OYCCr",
        "colab": {
          "base_uri": "https://localhost:8080/",
          "height": 33
        },
        "outputId": "186e3185-764c-45b4-bec8-b081f54bef44"
      },
      "source": [
        "print(\"Final value of theta_0 is {}\".format(new_theta[0,0]))"
      ],
      "execution_count": null,
      "outputs": [
        {
          "output_type": "stream",
          "text": [
            "Final value of theta_0 is 2.7383593674388483e-16\n"
          ],
          "name": "stdout"
        }
      ]
    },
    {
      "cell_type": "code",
      "metadata": {
        "id": "MUFLyquWYO35",
        "colab": {
          "base_uri": "https://localhost:8080/",
          "height": 33
        },
        "outputId": "78cec4b2-8827-40fe-eb15-185dd4cc8ed1"
      },
      "source": [
        "print(\"Final value of theta_1 is {}\".format(new_theta[0,1]))"
      ],
      "execution_count": null,
      "outputs": [
        {
          "output_type": "stream",
          "text": [
            "Final value of theta_1 is 0.9834094365416951\n"
          ],
          "name": "stdout"
        }
      ]
    },
    {
      "cell_type": "code",
      "metadata": {
        "id": "JzTc7_4qYTN3",
        "colab": {
          "base_uri": "https://localhost:8080/",
          "height": 33
        },
        "outputId": "3f3f94c3-8520-443a-de6b-a8f5f10832e4"
      },
      "source": [
        "print(len(cost))"
      ],
      "execution_count": null,
      "outputs": [
        {
          "output_type": "stream",
          "text": [
            "250\n"
          ],
          "name": "stdout"
        }
      ]
    },
    {
      "cell_type": "code",
      "metadata": {
        "id": "OyJkezQfkbuC"
      },
      "source": [
        "model_price = X * new_theta.T"
      ],
      "execution_count": null,
      "outputs": []
    },
    {
      "cell_type": "code",
      "metadata": {
        "id": "7Q3m6ndYkmTY",
        "colab": {
          "base_uri": "https://localhost:8080/",
          "height": 528
        },
        "outputId": "81e9eab1-ffd0-453a-9adc-34933acf80b9"
      },
      "source": [
        "model_price = X * new_theta.T\n",
        "fig,ax = plt.subplots(figsize=(12,8))\n",
        "ax.plot(data.Size,model_price,'r',label=\"Prediction\")\n",
        "ax.scatter(data.Size,data.Price,label=\"Training data\")\n",
        "ax.legend()\n",
        "ax.set_xlabel('Size')\n",
        "ax.set_ylabel('Price')\n",
        "ax.set_title('Predicted Price Vs Size')"
      ],
      "execution_count": null,
      "outputs": [
        {
          "output_type": "execute_result",
          "data": {
            "text/plain": [
              "Text(0.5, 1.0, 'Predicted Price Vs Size')"
            ]
          },
          "metadata": {
            "tags": []
          },
          "execution_count": 64
        },
        {
          "output_type": "display_data",
          "data": {
            "image/png": "[encoded data removed]",
            "text/plain": [
              "<Figure size 864x576 with 1 Axes>"
            ]
          },
          "metadata": {
            "tags": [],
            "needs_background": "light"
          }
        }
      ]
    },
    {
      "cell_type": "code",
      "metadata": {
        "id": "pRruXptGmSeA",
        "colab": {
          "base_uri": "https://localhost:8080/",
          "height": 530
        },
        "outputId": "5ba5d66c-ea2b-4512-99d1-8d82b7fa9277"
      },
      "source": [
        "fig,ax = plt.subplots(figsize=(12,8))\n",
        "ax.plot(np.arange(iters),cost,'g',label=\"Error V Cost\")\n",
        "ax.legend(loc=1)\n",
        "ax.set_xlabel('Iterations')\n",
        "ax.set_ylabel('Cost')\n",
        "ax.set_title('Error Vs Iterations')"
      ],
      "execution_count": null,
      "outputs": [
        {
          "output_type": "execute_result",
          "data": {
            "text/plain": [
              "Text(0.5, 1.0, 'Error Vs Iterations')"
            ]
          },
          "metadata": {
            "tags": []
          },
          "execution_count": 68
        },
        {
          "output_type": "display_data",
          "data": {
            "image/png": "[encoded data removed]",
            "text/plain": [
              "<Figure size 864x576 with 1 Axes>"
            ]
          },
          "metadata": {
            "tags": [],
            "needs_background": "light"
          }
        }
      ]
    },
    {
      "cell_type": "code",
      "metadata": {
        "id": "IGAuGLs9oiRe",
        "colab": {
          "base_uri": "https://localhost:8080/",
          "height": 51
        },
        "outputId": "1ce6e7a6-a047-49c0-866e-f83602eda3b1"
      },
      "source": [
        "from sklearn.metrics import mean_absolute_error\n",
        "\n",
        "Error = mean_absolute_error(model_price,y)\n",
        "Accuracy = 1 - Error\n",
        "\n",
        "print('Error = {} %'.format((round(Error*100,2))))\n",
        "print('Accuracy = {} %'.format((round(Accuracy*100,2))))"
      ],
      "execution_count": null,
      "outputs": [
        {
          "output_type": "stream",
          "text": [
            "Error = 0.94 %\n",
            "Accuracy = 99.06 %\n"
          ],
          "name": "stdout"
        }
      ]
    },
    {
      "cell_type": "code",
      "metadata": {
        "id": "fXr4bzi7sqjL"
      },
      "source": [
        "def predict(new_theta,accuracy):\n",
        "  size = float(input(\"Enter the size of the house in Sqt:\"))\n",
        "  size = (size-raw_data.Size.mean())/(raw_data.Size.max()-raw_data.Size.min())\n",
        "  price = (new_theta[0,0] + (new_theta[0,1]*size))\n",
        "  Predicted_price = (price*(raw_data.Price.max()-raw_data.Price.min()))+(raw_data.Price.mean())\n",
        "  Price_at_max_Accuracy = (Predicted_price*(1/accuracy))\n",
        "  Price_range = Price_at_max_Accuracy - Predicted_price\n",
        "  return Predicted_price, Price_range, Price_at_max_Accuracy"
      ],
      "execution_count": null,
      "outputs": []
    },
    {
      "cell_type": "code",
      "metadata": {
        "id": "HmUMPrAksvSK",
        "colab": {
          "base_uri": "https://localhost:8080/",
          "height": 51
        },
        "outputId": "7dbb6e9d-f726-4785-ba89-4f26b8f5de95"
      },
      "source": [
        "Predicted_price, Price_range, Price_at_max_Accuracy = predict(new_theta,Accuracy)\n",
        "print('Your house cost is '+str(round(Predicted_price*(1/100000), 2))+' Lakhs (+ or -)'+str(round(Price_range, 2)))"
      ],
      "execution_count": null,
      "outputs": [
        {
          "output_type": "stream",
          "text": [
            "Enter the size of the house in Sqt:3200\n",
            "Your house cost is 129.24 Lakhs (+ or -)123285.92\n"
          ],
          "name": "stdout"
        }
      ]
    }
  ]
}